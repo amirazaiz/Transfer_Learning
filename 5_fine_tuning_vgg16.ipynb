{
  "nbformat": 4,
  "nbformat_minor": 0,
  "metadata": {
    "colab": {
      "provenance": [],
      "authorship_tag": "ABX9TyMxdJVl+sT2DnvxXZCW5gtV",
      "include_colab_link": true
    },
    "kernelspec": {
      "name": "python3",
      "display_name": "Python 3"
    },
    "language_info": {
      "name": "python"
    },
    "accelerator": "GPU",
    "gpuClass": "standard"
  },
  "cells": [
    {
      "cell_type": "markdown",
      "metadata": {
        "id": "view-in-github",
        "colab_type": "text"
      },
      "source": [
        "<a href=\"https://colab.research.google.com/github/amirazaiz/fine_tuning_mobilenet/blob/main/5_fine_tuning_vgg16.ipynb\" target=\"_parent\"><img src=\"https://colab.research.google.com/assets/colab-badge.svg\" alt=\"Open In Colab\"/></a>"
      ]
    },
    {
      "cell_type": "code",
      "execution_count": null,
      "metadata": {
        "id": "i00aDjZxfaNe"
      },
      "outputs": [],
      "source": [
        "from google.colab import drive"
      ]
    },
    {
      "cell_type": "code",
      "source": [
        "drive.mount('/content/drive')"
      ],
      "metadata": {
        "colab": {
          "base_uri": "https://localhost:8080/"
        },
        "id": "rgyMDrI-mKD_",
        "outputId": "a25be61c-eb1f-4e47-bfc7-3fef609dd372"
      },
      "execution_count": null,
      "outputs": [
        {
          "output_type": "stream",
          "name": "stdout",
          "text": [
            "Mounted at /content/drive\n"
          ]
        }
      ]
    },
    {
      "cell_type": "markdown",
      "source": [
        "# Importing Libraries"
      ],
      "metadata": {
        "id": "gUgdzBVfi-BA"
      }
    },
    {
      "cell_type": "code",
      "source": [
        "import tensorflow as tf"
      ],
      "metadata": {
        "id": "TbJcyP8ZfkDx"
      },
      "execution_count": null,
      "outputs": []
    },
    {
      "cell_type": "code",
      "source": [
        "from tensorflow.keras.layers import Dense\n",
        "from tensorflow.keras.models import Sequential"
      ],
      "metadata": {
        "id": "ISP3R8VTfm5M"
      },
      "execution_count": null,
      "outputs": []
    },
    {
      "cell_type": "markdown",
      "source": [
        "# Downloading VGG16"
      ],
      "metadata": {
        "id": "EdFGgSX2jGU-"
      }
    },
    {
      "cell_type": "code",
      "source": [
        "vgg16_model = tf.keras.applications.vgg16.VGG16()"
      ],
      "metadata": {
        "colab": {
          "base_uri": "https://localhost:8080/"
        },
        "id": "-Dq7ZAXWfm-Z",
        "outputId": "3f3f9518-facb-40f9-f127-d3f30d0dd3ea"
      },
      "execution_count": null,
      "outputs": [
        {
          "output_type": "stream",
          "name": "stdout",
          "text": [
            "Downloading data from https://storage.googleapis.com/tensorflow/keras-applications/vgg16/vgg16_weights_tf_dim_ordering_tf_kernels.h5\n",
            "553467096/553467096 [==============================] - 24s 0us/step\n"
          ]
        }
      ]
    },
    {
      "cell_type": "code",
      "source": [
        "if (isinstance(vgg16_model, tf.keras.Sequential)):\n",
        "  print(\"sequential\")\n",
        "else:\n",
        "  print(\"not sequential\")"
      ],
      "metadata": {
        "colab": {
          "base_uri": "https://localhost:8080/"
        },
        "id": "92ZkXxHoTaza",
        "outputId": "c2c991bc-9e00-482b-c661-a50df100d26d"
      },
      "execution_count": null,
      "outputs": [
        {
          "output_type": "stream",
          "name": "stdout",
          "text": [
            "not sequential\n"
          ]
        }
      ]
    },
    {
      "cell_type": "code",
      "source": [
        "vgg16_model.summary()"
      ],
      "metadata": {
        "colab": {
          "base_uri": "https://localhost:8080/"
        },
        "id": "bPwPsWtafnEb",
        "outputId": "6d90b37c-6352-45b5-a06f-7b472b6acc6e"
      },
      "execution_count": null,
      "outputs": [
        {
          "output_type": "stream",
          "name": "stdout",
          "text": [
            "Model: \"vgg16\"\n",
            "_________________________________________________________________\n",
            " Layer (type)                Output Shape              Param #   \n",
            "=================================================================\n",
            " input_1 (InputLayer)        [(None, 224, 224, 3)]     0         \n",
            "                                                                 \n",
            " block1_conv1 (Conv2D)       (None, 224, 224, 64)      1792      \n",
            "                                                                 \n",
            " block1_conv2 (Conv2D)       (None, 224, 224, 64)      36928     \n",
            "                                                                 \n",
            " block1_pool (MaxPooling2D)  (None, 112, 112, 64)      0         \n",
            "                                                                 \n",
            " block2_conv1 (Conv2D)       (None, 112, 112, 128)     73856     \n",
            "                                                                 \n",
            " block2_conv2 (Conv2D)       (None, 112, 112, 128)     147584    \n",
            "                                                                 \n",
            " block2_pool (MaxPooling2D)  (None, 56, 56, 128)       0         \n",
            "                                                                 \n",
            " block3_conv1 (Conv2D)       (None, 56, 56, 256)       295168    \n",
            "                                                                 \n",
            " block3_conv2 (Conv2D)       (None, 56, 56, 256)       590080    \n",
            "                                                                 \n",
            " block3_conv3 (Conv2D)       (None, 56, 56, 256)       590080    \n",
            "                                                                 \n",
            " block3_pool (MaxPooling2D)  (None, 28, 28, 256)       0         \n",
            "                                                                 \n",
            " block4_conv1 (Conv2D)       (None, 28, 28, 512)       1180160   \n",
            "                                                                 \n",
            " block4_conv2 (Conv2D)       (None, 28, 28, 512)       2359808   \n",
            "                                                                 \n",
            " block4_conv3 (Conv2D)       (None, 28, 28, 512)       2359808   \n",
            "                                                                 \n",
            " block4_pool (MaxPooling2D)  (None, 14, 14, 512)       0         \n",
            "                                                                 \n",
            " block5_conv1 (Conv2D)       (None, 14, 14, 512)       2359808   \n",
            "                                                                 \n",
            " block5_conv2 (Conv2D)       (None, 14, 14, 512)       2359808   \n",
            "                                                                 \n",
            " block5_conv3 (Conv2D)       (None, 14, 14, 512)       2359808   \n",
            "                                                                 \n",
            " block5_pool (MaxPooling2D)  (None, 7, 7, 512)         0         \n",
            "                                                                 \n",
            " flatten (Flatten)           (None, 25088)             0         \n",
            "                                                                 \n",
            " fc1 (Dense)                 (None, 4096)              102764544 \n",
            "                                                                 \n",
            " fc2 (Dense)                 (None, 4096)              16781312  \n",
            "                                                                 \n",
            " predictions (Dense)         (None, 1000)              4097000   \n",
            "                                                                 \n",
            "=================================================================\n",
            "Total params: 138,357,544\n",
            "Trainable params: 138,357,544\n",
            "Non-trainable params: 0\n",
            "_________________________________________________________________\n"
          ]
        }
      ]
    },
    {
      "cell_type": "markdown",
      "source": [
        "# Fine tuning vgg16 to classify mask/nomask faces"
      ],
      "metadata": {
        "id": "SW5Ejd2OlEIi"
      }
    },
    {
      "cell_type": "markdown",
      "source": [
        "# Removing output layer to add our customized one"
      ],
      "metadata": {
        "id": "xm2dZSNVjKaO"
      }
    },
    {
      "cell_type": "code",
      "source": [
        "model = Sequential()\n",
        "for layer in vgg16_model.layers[:-1]:\n",
        "  model.add(layer)"
      ],
      "metadata": {
        "id": "V5PgEI-8fnJw"
      },
      "execution_count": null,
      "outputs": []
    },
    {
      "cell_type": "code",
      "source": [
        "model.summary()"
      ],
      "metadata": {
        "colab": {
          "base_uri": "https://localhost:8080/"
        },
        "id": "T3TnarldfnPE",
        "outputId": "edd84495-8772-40d8-a83d-e78e4149cc12"
      },
      "execution_count": null,
      "outputs": [
        {
          "output_type": "stream",
          "name": "stdout",
          "text": [
            "Model: \"sequential\"\n",
            "_________________________________________________________________\n",
            " Layer (type)                Output Shape              Param #   \n",
            "=================================================================\n",
            " block1_conv1 (Conv2D)       (None, 224, 224, 64)      1792      \n",
            "                                                                 \n",
            " block1_conv2 (Conv2D)       (None, 224, 224, 64)      36928     \n",
            "                                                                 \n",
            " block1_pool (MaxPooling2D)  (None, 112, 112, 64)      0         \n",
            "                                                                 \n",
            " block2_conv1 (Conv2D)       (None, 112, 112, 128)     73856     \n",
            "                                                                 \n",
            " block2_conv2 (Conv2D)       (None, 112, 112, 128)     147584    \n",
            "                                                                 \n",
            " block2_pool (MaxPooling2D)  (None, 56, 56, 128)       0         \n",
            "                                                                 \n",
            " block3_conv1 (Conv2D)       (None, 56, 56, 256)       295168    \n",
            "                                                                 \n",
            " block3_conv2 (Conv2D)       (None, 56, 56, 256)       590080    \n",
            "                                                                 \n",
            " block3_conv3 (Conv2D)       (None, 56, 56, 256)       590080    \n",
            "                                                                 \n",
            " block3_pool (MaxPooling2D)  (None, 28, 28, 256)       0         \n",
            "                                                                 \n",
            " block4_conv1 (Conv2D)       (None, 28, 28, 512)       1180160   \n",
            "                                                                 \n",
            " block4_conv2 (Conv2D)       (None, 28, 28, 512)       2359808   \n",
            "                                                                 \n",
            " block4_conv3 (Conv2D)       (None, 28, 28, 512)       2359808   \n",
            "                                                                 \n",
            " block4_pool (MaxPooling2D)  (None, 14, 14, 512)       0         \n",
            "                                                                 \n",
            " block5_conv1 (Conv2D)       (None, 14, 14, 512)       2359808   \n",
            "                                                                 \n",
            " block5_conv2 (Conv2D)       (None, 14, 14, 512)       2359808   \n",
            "                                                                 \n",
            " block5_conv3 (Conv2D)       (None, 14, 14, 512)       2359808   \n",
            "                                                                 \n",
            " block5_pool (MaxPooling2D)  (None, 7, 7, 512)         0         \n",
            "                                                                 \n",
            " flatten (Flatten)           (None, 25088)             0         \n",
            "                                                                 \n",
            " fc1 (Dense)                 (None, 4096)              102764544 \n",
            "                                                                 \n",
            " fc2 (Dense)                 (None, 4096)              16781312  \n",
            "                                                                 \n",
            "=================================================================\n",
            "Total params: 134,260,544\n",
            "Trainable params: 134,260,544\n",
            "Non-trainable params: 0\n",
            "_________________________________________________________________\n"
          ]
        }
      ]
    },
    {
      "cell_type": "markdown",
      "source": [
        "# Freezing these layers so we don't retrain them again"
      ],
      "metadata": {
        "id": "MIEekv8Kjtv5"
      }
    },
    {
      "cell_type": "code",
      "source": [
        "for layer in model.layers:\n",
        "  layer.trainable = False"
      ],
      "metadata": {
        "id": "Evfa7F3GfnUb"
      },
      "execution_count": null,
      "outputs": []
    },
    {
      "cell_type": "markdown",
      "source": [
        "# Adding our customized output layer"
      ],
      "metadata": {
        "id": "VPLofB1Zj8r5"
      }
    },
    {
      "cell_type": "code",
      "source": [
        "model.add(Dense(units = 2, activation='softmax'))"
      ],
      "metadata": {
        "id": "qVgyO3fQj72V"
      },
      "execution_count": null,
      "outputs": []
    },
    {
      "cell_type": "code",
      "source": [
        "model.summary()"
      ],
      "metadata": {
        "colab": {
          "base_uri": "https://localhost:8080/"
        },
        "id": "wFriafPCkF3q",
        "outputId": "4a18ff08-3858-402f-b2ad-c8a4810be24d"
      },
      "execution_count": null,
      "outputs": [
        {
          "output_type": "stream",
          "name": "stdout",
          "text": [
            "Model: \"sequential\"\n",
            "_________________________________________________________________\n",
            " Layer (type)                Output Shape              Param #   \n",
            "=================================================================\n",
            " block1_conv1 (Conv2D)       (None, 224, 224, 64)      1792      \n",
            "                                                                 \n",
            " block1_conv2 (Conv2D)       (None, 224, 224, 64)      36928     \n",
            "                                                                 \n",
            " block1_pool (MaxPooling2D)  (None, 112, 112, 64)      0         \n",
            "                                                                 \n",
            " block2_conv1 (Conv2D)       (None, 112, 112, 128)     73856     \n",
            "                                                                 \n",
            " block2_conv2 (Conv2D)       (None, 112, 112, 128)     147584    \n",
            "                                                                 \n",
            " block2_pool (MaxPooling2D)  (None, 56, 56, 128)       0         \n",
            "                                                                 \n",
            " block3_conv1 (Conv2D)       (None, 56, 56, 256)       295168    \n",
            "                                                                 \n",
            " block3_conv2 (Conv2D)       (None, 56, 56, 256)       590080    \n",
            "                                                                 \n",
            " block3_conv3 (Conv2D)       (None, 56, 56, 256)       590080    \n",
            "                                                                 \n",
            " block3_pool (MaxPooling2D)  (None, 28, 28, 256)       0         \n",
            "                                                                 \n",
            " block4_conv1 (Conv2D)       (None, 28, 28, 512)       1180160   \n",
            "                                                                 \n",
            " block4_conv2 (Conv2D)       (None, 28, 28, 512)       2359808   \n",
            "                                                                 \n",
            " block4_conv3 (Conv2D)       (None, 28, 28, 512)       2359808   \n",
            "                                                                 \n",
            " block4_pool (MaxPooling2D)  (None, 14, 14, 512)       0         \n",
            "                                                                 \n",
            " block5_conv1 (Conv2D)       (None, 14, 14, 512)       2359808   \n",
            "                                                                 \n",
            " block5_conv2 (Conv2D)       (None, 14, 14, 512)       2359808   \n",
            "                                                                 \n",
            " block5_conv3 (Conv2D)       (None, 14, 14, 512)       2359808   \n",
            "                                                                 \n",
            " block5_pool (MaxPooling2D)  (None, 7, 7, 512)         0         \n",
            "                                                                 \n",
            " flatten (Flatten)           (None, 25088)             0         \n",
            "                                                                 \n",
            " fc1 (Dense)                 (None, 4096)              102764544 \n",
            "                                                                 \n",
            " fc2 (Dense)                 (None, 4096)              16781312  \n",
            "                                                                 \n",
            " dense (Dense)               (None, 2)                 8194      \n",
            "                                                                 \n",
            "=================================================================\n",
            "Total params: 134,268,738\n",
            "Trainable params: 8,194\n",
            "Non-trainable params: 134,260,544\n",
            "_________________________________________________________________\n"
          ]
        }
      ]
    },
    {
      "cell_type": "code",
      "source": [
        "# params = count_params(model)\n",
        "# param"
      ],
      "metadata": {
        "id": "cb0eJiW2fnaa"
      },
      "execution_count": null,
      "outputs": []
    },
    {
      "cell_type": "code",
      "source": [
        "from tensorflow.keras.optimizers import Adam"
      ],
      "metadata": {
        "id": "oHJH7_aXtjQC"
      },
      "execution_count": null,
      "outputs": []
    },
    {
      "cell_type": "code",
      "source": [
        "optimizer = tf.keras.optimizers.Adam(lr=1e-5)\n",
        "model.compile(optimizer='SGD',loss='categorical_crossentropy',metrics=['accuracy'])"
      ],
      "metadata": {
        "colab": {
          "base_uri": "https://localhost:8080/"
        },
        "id": "aX6m4j7OkK99",
        "outputId": "79ca3bde-e87c-46ec-afe3-a5400a6a9b04"
      },
      "execution_count": null,
      "outputs": [
        {
          "output_type": "stream",
          "name": "stderr",
          "text": [
            "WARNING:absl:`lr` is deprecated, please use `learning_rate` instead, or use the legacy optimizer, e.g.,tf.keras.optimizers.legacy.Adam.\n"
          ]
        }
      ]
    },
    {
      "cell_type": "markdown",
      "source": [
        "# Training VGG16 on our new dataset"
      ],
      "metadata": {
        "id": "1KB3dqyvlM_w"
      }
    },
    {
      "cell_type": "code",
      "source": [
        "from keras.preprocessing.image import ImageDataGenerator"
      ],
      "metadata": {
        "id": "cbOidOFEkK_O"
      },
      "execution_count": null,
      "outputs": []
    },
    {
      "cell_type": "markdown",
      "source": [
        "Preprocessing data"
      ],
      "metadata": {
        "id": "k1V0mRHwlpUn"
      }
    },
    {
      "cell_type": "code",
      "source": [
        "train_datagen = ImageDataGenerator(rescale = 1./255,\n",
        "                                   shear_range = 0.2,\n",
        "                                   zoom_range = 0.2,\n",
        "                                   horizontal_flip = True,\n",
        "                                  )\n",
        "training_set = train_datagen.flow_from_directory('/content/drive/MyDrive/dataset/face_mask_detection',\n",
        "                                                 target_size = (224, 224),\n",
        "                                                 batch_size = 10,\n",
        "                                                 class_mode = 'categorical')"
      ],
      "metadata": {
        "colab": {
          "base_uri": "https://localhost:8080/"
        },
        "id": "StNhpGiKkLDV",
        "outputId": "0db70a76-ecae-416b-a462-d3b2ac0fbd20"
      },
      "execution_count": null,
      "outputs": [
        {
          "output_type": "stream",
          "name": "stdout",
          "text": [
            "Found 194 images belonging to 2 classes.\n"
          ]
        }
      ]
    },
    {
      "cell_type": "code",
      "source": [
        "# train_datagen = ImageDataGenerator(\n",
        "#                                    zoom_range=0.15,\n",
        "#                                    width_shift_range=0.2,\n",
        "#                                    height_shift_range=0.2,\n",
        "#                                    shear_range=0.15)\n",
        "# training_set = train_datagen.flow_from_directory('/content/drive/MyDrive/dataset/face_mask_detection',\n",
        "#                                                     target_size=(224, 224),\n",
        "#                                                     batch_size=32,\n",
        "#                                                     shuffle=True,\n",
        "#                                                     class_mode='categorical')"
      ],
      "metadata": {
        "colab": {
          "base_uri": "https://localhost:8080/"
        },
        "id": "xLwDITfLpQ2A",
        "outputId": "737b6c40-a73a-4ffa-81e0-fe2440e18ade"
      },
      "execution_count": null,
      "outputs": [
        {
          "output_type": "stream",
          "name": "stdout",
          "text": [
            "Found 194 images belonging to 2 classes.\n"
          ]
        }
      ]
    },
    {
      "cell_type": "code",
      "source": [
        "training_set.class_indices"
      ],
      "metadata": {
        "colab": {
          "base_uri": "https://localhost:8080/"
        },
        "id": "po2W39iFlwwW",
        "outputId": "0561e4d2-9c9a-494b-b111-62f5f94eebd1"
      },
      "execution_count": null,
      "outputs": [
        {
          "output_type": "execute_result",
          "data": {
            "text/plain": [
              "{'with_mask': 0, 'without_mask': 1}"
            ]
          },
          "metadata": {},
          "execution_count": 53
        }
      ]
    },
    {
      "cell_type": "code",
      "source": [
        "type(training_set)"
      ],
      "metadata": {
        "colab": {
          "base_uri": "https://localhost:8080/"
        },
        "id": "hPxeNvHxq4Q6",
        "outputId": "e741bbe7-d677-4ccb-9086-cf65300c778f"
      },
      "execution_count": null,
      "outputs": [
        {
          "output_type": "execute_result",
          "data": {
            "text/plain": [
              "keras.preprocessing.image.DirectoryIterator"
            ]
          },
          "metadata": {},
          "execution_count": 54
        }
      ]
    },
    {
      "cell_type": "code",
      "source": [
        "model.fit(training_set, epochs = 25)"
      ],
      "metadata": {
        "colab": {
          "base_uri": "https://localhost:8080/"
        },
        "id": "d2aYiCqplw5K",
        "outputId": "f777dd6a-35f8-454e-f82b-cba0f3994df6"
      },
      "execution_count": null,
      "outputs": [
        {
          "output_type": "stream",
          "name": "stdout",
          "text": [
            "Epoch 1/25\n",
            "20/20 [==============================] - 6s 223ms/step - loss: 7.3183 - accuracy: 0.4691\n",
            "Epoch 2/25\n",
            "20/20 [==============================] - 3s 148ms/step - loss: 4.3168 - accuracy: 0.5722\n",
            "Epoch 3/25\n",
            "20/20 [==============================] - 3s 147ms/step - loss: 4.0692 - accuracy: 0.5670\n",
            "Epoch 4/25\n",
            "20/20 [==============================] - 3s 152ms/step - loss: 3.9965 - accuracy: 0.5206\n",
            "Epoch 5/25\n",
            "20/20 [==============================] - 3s 162ms/step - loss: 3.2721 - accuracy: 0.5876\n",
            "Epoch 6/25\n",
            "20/20 [==============================] - 3s 140ms/step - loss: 3.1349 - accuracy: 0.6237\n",
            "Epoch 7/25\n",
            "20/20 [==============================] - 3s 149ms/step - loss: 1.0307 - accuracy: 0.8196\n",
            "Epoch 8/25\n",
            "20/20 [==============================] - 3s 166ms/step - loss: 1.3546 - accuracy: 0.7371\n",
            "Epoch 9/25\n",
            "20/20 [==============================] - 3s 140ms/step - loss: 1.8788 - accuracy: 0.7113\n",
            "Epoch 10/25\n",
            "20/20 [==============================] - 3s 145ms/step - loss: 0.3878 - accuracy: 0.9072\n",
            "Epoch 11/25\n",
            "20/20 [==============================] - 3s 148ms/step - loss: 0.4555 - accuracy: 0.8402\n",
            "Epoch 12/25\n",
            "20/20 [==============================] - 4s 194ms/step - loss: 0.4497 - accuracy: 0.8814\n",
            "Epoch 13/25\n",
            "20/20 [==============================] - 3s 149ms/step - loss: 0.9966 - accuracy: 0.8093\n",
            "Epoch 14/25\n",
            "20/20 [==============================] - 3s 141ms/step - loss: 0.6941 - accuracy: 0.8711\n",
            "Epoch 15/25\n",
            "20/20 [==============================] - 3s 143ms/step - loss: 0.3797 - accuracy: 0.9021\n",
            "Epoch 16/25\n",
            "20/20 [==============================] - 4s 174ms/step - loss: 0.4796 - accuracy: 0.8814\n",
            "Epoch 17/25\n",
            "20/20 [==============================] - 3s 144ms/step - loss: 0.6779 - accuracy: 0.8351\n",
            "Epoch 18/25\n",
            "20/20 [==============================] - 3s 149ms/step - loss: 0.2740 - accuracy: 0.9330\n",
            "Epoch 19/25\n",
            "20/20 [==============================] - 3s 143ms/step - loss: 0.3004 - accuracy: 0.9278\n",
            "Epoch 20/25\n",
            "20/20 [==============================] - 4s 196ms/step - loss: 0.1464 - accuracy: 0.9485\n",
            "Epoch 21/25\n",
            "20/20 [==============================] - 3s 146ms/step - loss: 0.8467 - accuracy: 0.8247\n",
            "Epoch 22/25\n",
            "20/20 [==============================] - 3s 143ms/step - loss: 0.1046 - accuracy: 0.9588\n",
            "Epoch 23/25\n",
            "20/20 [==============================] - 3s 142ms/step - loss: 0.1963 - accuracy: 0.9433\n",
            "Epoch 24/25\n",
            "20/20 [==============================] - 4s 180ms/step - loss: 0.1093 - accuracy: 0.9536\n",
            "Epoch 25/25\n",
            "20/20 [==============================] - 3s 167ms/step - loss: 0.4858 - accuracy: 0.8763\n"
          ]
        },
        {
          "output_type": "execute_result",
          "data": {
            "text/plain": [
              "<keras.callbacks.History at 0x7fa93ba7b760>"
            ]
          },
          "metadata": {},
          "execution_count": 55
        }
      ]
    },
    {
      "cell_type": "markdown",
      "source": [
        "# Evaluating Model"
      ],
      "metadata": {
        "id": "nkryvrJywI18"
      }
    },
    {
      "cell_type": "code",
      "source": [
        "# model.evaluate_generator(test_data)"
      ],
      "metadata": {
        "id": "ebQAQjpWwKjq"
      },
      "execution_count": null,
      "outputs": []
    },
    {
      "cell_type": "code",
      "source": [
        "# import matplotlib.pyplot as plt\n",
        "# plt.plot(model.history[“acc”])\n",
        "# plt.plot(model.history[‘val_acc’])\n",
        "# plt.plot(model.history[‘loss’])\n",
        "# plt.plot(hist.history[‘val_loss’])\n",
        "# plt.title(“model accuracy”)\n",
        "# plt.ylabel(“Accuracy”)\n",
        "# plt.xlabel(“Epoch”)\n",
        "# plt.legend([“Accuracy”,”Validation Accuracy”,”loss”,”Validation Loss”])\n",
        "# plt.show()"
      ],
      "metadata": {
        "id": "ErOFvAcywQtd"
      },
      "execution_count": null,
      "outputs": []
    },
    {
      "cell_type": "markdown",
      "source": [
        "# Saving model"
      ],
      "metadata": {
        "id": "2asUXyUWvEmL"
      }
    },
    {
      "cell_type": "code",
      "source": [
        "model.save('/content/drive/My Drive/weights.h5')\n"
      ],
      "metadata": {
        "id": "X3Y0_zzBu954"
      },
      "execution_count": null,
      "outputs": []
    },
    {
      "cell_type": "markdown",
      "source": [
        "downloading model to local machine"
      ],
      "metadata": {
        "id": "9G-JzRy9vXa4"
      }
    },
    {
      "cell_type": "code",
      "source": [
        "from google.colab import files\n",
        "files.download('/content/drive/My Drive/weights.h5')\n"
      ],
      "metadata": {
        "id": "LZl-kbgyvS1m"
      },
      "execution_count": null,
      "outputs": []
    },
    {
      "cell_type": "markdown",
      "source": [
        "# Using saved model"
      ],
      "metadata": {
        "id": "h-NJkxlnwYwV"
      }
    },
    {
      "cell_type": "code",
      "source": [
        "model.load_weights('/content/drive/MyDrive/weights.h5')"
      ],
      "metadata": {
        "id": "q03fh9zuwBKB"
      },
      "execution_count": null,
      "outputs": []
    },
    {
      "cell_type": "code",
      "source": [
        "import cv2\n",
        "import numpy as np\n",
        "image = cv2.imread('/content/drive/MyDrive/dataset/benzema.png')"
      ],
      "metadata": {
        "id": "CkMhPdRtw5k9"
      },
      "execution_count": null,
      "outputs": []
    },
    {
      "cell_type": "code",
      "source": [
        "image = cv2.resize(image, (224,224))"
      ],
      "metadata": {
        "id": "HeeCWGx-w5pU"
      },
      "execution_count": null,
      "outputs": []
    },
    {
      "cell_type": "markdown",
      "source": [
        "# Remember class_indices: {\"with mask\" ,\"without mask\"}"
      ],
      "metadata": {
        "id": "CT0B7LrC1MlB"
      }
    },
    {
      "cell_type": "code",
      "source": [
        "preds = model.predict(np.expand_dims(image, axis=0))[0]\n",
        "\n",
        "print('predicted Label',preds)"
      ],
      "metadata": {
        "colab": {
          "base_uri": "https://localhost:8080/"
        },
        "id": "7e4e6X-Ww50c",
        "outputId": "88442421-e5b3-4445-81bf-d3dbe5c13662"
      },
      "execution_count": null,
      "outputs": [
        {
          "output_type": "stream",
          "name": "stdout",
          "text": [
            "1/1 [==============================] - 0s 23ms/step\n",
            "predicted Label [4.0400786e-28 1.0000000e+00]\n"
          ]
        }
      ]
    },
    {
      "cell_type": "code",
      "source": [
        "image_with_mask = cv2.imread('/content/drive/MyDrive/dataset/test.jpg')"
      ],
      "metadata": {
        "id": "5GtQeKDexzM_"
      },
      "execution_count": null,
      "outputs": []
    },
    {
      "cell_type": "markdown",
      "source": [
        "The np.expand_dims(image_with_mask, axis=0) function call adds an extra dimension to the input image image_with_mask, effectively converting it from a 2D image to a 3D array with a batch size of 1. This is necessary because Keras models expect input data to be in the form of batches, even if the batch size is just 1.\n",
        "\n",
        "The resulting 3D array is then passed to the model.predict() function, which returns a prediction for the input data. The [0] at the end of the code snippet is used to extract the prediction for the first (and only) image in the batch.\n",
        "\n",
        "Overall, the code snippet is used to make a prediction on a single image with a mask using a Keras model."
      ],
      "metadata": {
        "id": "34vlZiJvzDO0"
      }
    },
    {
      "cell_type": "code",
      "source": [
        "image_with_mask = cv2.resize(image_with_mask, (224,224))"
      ],
      "metadata": {
        "id": "EttAnOVPyBhX"
      },
      "execution_count": null,
      "outputs": []
    },
    {
      "cell_type": "code",
      "source": [
        "preds = model.predict(np.expand_dims(image_with_mask, axis=0))[0]\n",
        "\n",
        "print('predicted Label',preds)"
      ],
      "metadata": {
        "colab": {
          "base_uri": "https://localhost:8080/"
        },
        "id": "Qpg5zINbyFs3",
        "outputId": "2a253120-d265-44dc-dc11-bc048609a044"
      },
      "execution_count": null,
      "outputs": [
        {
          "output_type": "stream",
          "name": "stdout",
          "text": [
            "1/1 [==============================] - 0s 116ms/step\n",
            "predicted Label [1.0000000e+00 1.9022287e-19]\n"
          ]
        }
      ]
    }
  ]
}